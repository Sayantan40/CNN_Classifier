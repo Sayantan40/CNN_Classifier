{
 "cells": [
  {
   "cell_type": "markdown",
   "metadata": {},
   "source": [
    "## Stage 1 Trial."
   ]
  },
  {
   "cell_type": "code",
   "execution_count": 9,
   "metadata": {},
   "outputs": [],
   "source": [
    "from collections import namedtuple\n",
    "import os\n",
    "os.chdir(r\"C:\\Users\\sayan\\CNN_Classifier\\src\")"
   ]
  },
  {
   "cell_type": "code",
   "execution_count": 10,
   "metadata": {},
   "outputs": [],
   "source": [
    "DataIngestionConfig = namedtuple(typename=\"DataIngestionConfig\",field_names = [\"root_dir\",\"source_URL\",\"local_data_file\",\"unzip_dir\"])"
   ]
  },
  {
   "cell_type": "code",
   "execution_count": null,
   "metadata": {},
   "outputs": [],
   "source": [
    "## The Entity portion which must be defined in the entity folder\n",
    "##The dataclass works similarly as nametuple\n",
    "\n",
    "from dataclasses import dataclass\n",
    "from pathlib import Path\n",
    "\n",
    "\n",
    "@dataclass(frozen=True)\n",
    "class DataIngestionConfig:\n",
    "    root_dir: Path\n",
    "    source_URL: str\n",
    "    local_data_file: Path\n",
    "    unzip_dir: Path"
   ]
  },
  {
   "cell_type": "code",
   "execution_count": 11,
   "metadata": {},
   "outputs": [],
   "source": [
    "## The Config Ingestion portion which must be defined in the config folder of DeepClassifier\n",
    "\n",
    "from DeepClassifier.constants import *\n",
    "from DeepClassifier.utils import  read_yaml,create_directories\n",
    "\n",
    "## All the Configuration Information\n",
    "class ConfigurationManager:\n",
    "\n",
    "    \n",
    "    def __init__(self,\n",
    "                config_filepath = CONFIG_FILE_PATH,\n",
    "                params_filepath = PARAMS_FILE_PATH,\n",
    "                ):\n",
    "\n",
    "                self.config = read_yaml(config_filepath)\n",
    "                self.params = read_yaml(params_filepath)\n",
    "                create_directories([self.config.artifacts_root])\n",
    "\n",
    "    \n",
    "    \n",
    "    def get_data_ingestion_config(self) -> DataIngestionConfig :\n",
    "\n",
    "        config = self.config.data_ingestion\n",
    "\n",
    "        create_directories([config.root_dir])\n",
    "\n",
    "        data_ingestion_config = DataIngestionConfig(\n",
    "                                                    \n",
    "                                                    root_dir = config.root_dir,\n",
    "                                                    source_URL= config.source_URL,\n",
    "                                                    local_data_file = config.local_data_file,\n",
    "                                                    unzip_dir = config.unzip_dir ,\n",
    "                                                     \n",
    "                                                     )\n",
    "\n",
    "        return data_ingestion_config\n",
    "\n",
    "\n"
   ]
  },
  {
   "cell_type": "code",
   "execution_count": 12,
   "metadata": {},
   "outputs": [],
   "source": [
    "## The Data Ingestion Component\n",
    "import os\n",
    "import urllib.request as request\n",
    "from zipfile import ZipFile\n",
    "\n",
    "class DataIngestion:\n",
    "    \n",
    "    def __init__(self, config: DataIngestionConfig):\n",
    "        \n",
    "        self.config = config\n",
    "\n",
    "    ## To download the zip file\n",
    "    def download_file(self):\n",
    "        \n",
    "        if not os.path.exists(self.config.local_data_file):\n",
    "            \n",
    "            filename, headers = request.urlretrieve(\n",
    "                                                   \n",
    "                                                   url = self.config.source_URL,\n",
    "                                                   filename = self.config.local_data_file\n",
    "                                                    \n",
    "                                                    ) \n",
    "\n",
    "    ## This method performs a cleansing action removes unwanted files like files with other extensions\n",
    "    ## And selects the required files . \n",
    "    def _get_updated_list_of_files(self, list_of_files):\n",
    "        return [file for file in list_of_files if file.endswith(\".jpg\") and (\"Cat\" in file or \"Dog\" in file)]\n",
    "\n",
    "    \n",
    "    \n",
    "    \n",
    "    ## This extracts the zipfile  and removes files that have file size 0 kb.\n",
    "    def _preprocess(self, zf: ZipFile, file: str, working_dir: str):\n",
    "        \n",
    "        target_filepath = os.path.join(working_dir, file)\n",
    "        \n",
    "        if not os.path.exists(target_filepath):\n",
    "            zf.extract(file, working_dir)\n",
    "\n",
    "        if os.path.getsize(target_filepath) == 0:\n",
    "            os.remove(target_filepath)\n",
    "\n",
    "\n",
    "    \n",
    "    ## To unzip and extract the downloaded zip file and perform cleansing action to remove unwanted files.\n",
    "    def unzip_and_clean(self):\n",
    "        \n",
    "        with ZipFile(file = self.config.local_data_file, mode=\"r\") as zf: ## zf means zipfile\n",
    "            \n",
    "            list_of_files = zf.namelist()\n",
    "            \n",
    "            updated_list_of_files = self._get_updated_list_of_files(list_of_files)\n",
    "            \n",
    "            for file in updated_list_of_files:\n",
    "                self._preprocess(zf, file, self.config.unzip_dir)\n",
    "\n",
    "       \n",
    "\n",
    "            "
   ]
  },
  {
   "cell_type": "code",
   "execution_count": 15,
   "metadata": {},
   "outputs": [],
   "source": [
    "os.chdir(r\"C:\\Users\\sayan\\CNN_Classifier\")\n",
    "\n",
    "try:\n",
    "    \n",
    "    config = ConfigurationManager()\n",
    "    data_ingestion_config = config.get_data_ingestion_config()\n",
    "    data_ingestion = DataIngestion(config = data_ingestion_config)\n",
    "    data_ingestion.download_file()\n",
    "    data_ingestion.unzip_and_clean()\n",
    "\n",
    "except Exception as e:\n",
    "    raise e"
   ]
  }
 ],
 "metadata": {
  "kernelspec": {
   "display_name": "Python 3.8.0 64-bit ('venv')",
   "language": "python",
   "name": "python3"
  },
  "language_info": {
   "codemirror_mode": {
    "name": "ipython",
    "version": 3
   },
   "file_extension": ".py",
   "mimetype": "text/x-python",
   "name": "python",
   "nbconvert_exporter": "python",
   "pygments_lexer": "ipython3",
   "version": "3.8.0"
  },
  "vscode": {
   "interpreter": {
    "hash": "7d74bb4ca809bea0e6b09010ebb8d9549352d291f8e5169d93ceaa0f8bb6cf69"
   }
  }
 },
 "nbformat": 4,
 "nbformat_minor": 2
}
